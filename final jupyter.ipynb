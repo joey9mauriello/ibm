{
  "metadata": {
    "language_info": {
      "codemirror_mode": {
        "name": "python",
        "version": 3
      },
      "file_extension": ".py",
      "mimetype": "text/x-python",
      "name": "python",
      "nbconvert_exporter": "python",
      "pygments_lexer": "ipython3",
      "version": "3.8"
    },
    "kernelspec": {
      "name": "python",
      "display_name": "Pyolite",
      "language": "python"
    }
  },
  "nbformat_minor": 4,
  "nbformat": 4,
  "cells": [
    {
      "cell_type": "markdown",
      "source": "# My Jupyter Notebook on IBM Watson Studio",
      "metadata": {}
    },
    {
      "cell_type": "markdown",
      "source": "<b>Joey Mauriello: Data Scientist</b>",
      "metadata": {}
    },
    {
      "cell_type": "markdown",
      "source": "<i>I am interested in data science because I enjoy sorting and analyzing data. I am also interested in algorithms that help with this sorting.</i>",
      "metadata": {}
    },
    {
      "cell_type": "markdown",
      "source": "### This code adds 3 and 5.",
      "metadata": {}
    },
    {
      "cell_type": "code",
      "source": "3+5",
      "metadata": {
        "trusted": true
      },
      "execution_count": 3,
      "outputs": [
        {
          "execution_count": 3,
          "output_type": "execute_result",
          "data": {
            "text/plain": "8"
          },
          "metadata": {}
        }
      ]
    },
    {
      "cell_type": "markdown",
      "source": "---",
      "metadata": {}
    },
    {
      "cell_type": "markdown",
      "source": "1. Python\n2. SQL\n3. R",
      "metadata": {}
    },
    {
      "cell_type": "markdown",
      "source": "1. pandas\n2. numpy\n3. matplotlib",
      "metadata": {}
    },
    {
      "cell_type": "markdown",
      "source": "1. github\n2. mongoDB\n3. mySQL",
      "metadata": {}
    },
    {
      "cell_type": "markdown",
      "source": "7-2",
      "metadata": {}
    },
    {
      "cell_type": "code",
      "source": "num = int(input(\"Enter a number \"))\nprint(num+4)\nprint(num*3)",
      "metadata": {},
      "execution_count": null,
      "outputs": []
    },
    {
      "cell_type": "code",
      "source": "mins = int(input(\"Enter minutes: \"))\nprint(\"Hours: \" + str(mins/60))",
      "metadata": {},
      "execution_count": null,
      "outputs": []
    },
    {
      "cell_type": "markdown",
      "source": "1. Learn R\n2. Make data science connections\n3. graduate college",
      "metadata": {}
    },
    {
      "cell_type": "markdown",
      "source": "Joey Mauriello",
      "metadata": {}
    }
  ]
}